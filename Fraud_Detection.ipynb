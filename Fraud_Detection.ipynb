{
 "cells": [
  {
   "cell_type": "code",
   "execution_count": 1,
   "metadata": {},
   "outputs": [
    {
     "name": "stderr",
     "output_type": "stream",
     "text": [
      "Using TensorFlow backend.\n"
     ]
    }
   ],
   "source": [
    "import pandas as pd\n",
    "import numpy as np\n",
    "\n",
    "import matplotlib.pyplot as plt\n",
    "#import tensorflow as tf\n",
    "\n",
    "from pylab import rcParams\n",
    "from keras.models import Sequential\n",
    "from keras.layers import Dense, Dropout\n",
    "\n",
    "%matplotlib inline\n",
    "\n",
    "RANDOM_SEED = 42\n",
    "LABELS = [\"Normal\", \"Fraud\"]"
   ]
  },
  {
   "cell_type": "markdown",
   "metadata": {},
   "source": [
    "# Loading the data\n",
    "\n",
    "The dataset we're going to use can be downloaded from [Kaggle](https://www.kaggle.com/dalpozz/creditcardfraud). It contains data about credit card transactions that occurred during a period of two days, with 492 frauds out of 284,807 transactions.\n",
    "\n",
    "All variables in the dataset are numerical. The data has been transformed using PCA transformation(s) due to privacy reasons. The two features that haven't been changed are Time and Amount. Time contains the seconds elapsed between each transaction and the first transaction in the dataset."
   ]
  },
  {
   "cell_type": "code",
   "execution_count": 2,
   "metadata": {
    "collapsed": true
   },
   "outputs": [],
   "source": [
    "df = pd.read_csv(\"creditcard.csv\")"
   ]
  },
  {
   "cell_type": "markdown",
   "metadata": {},
   "source": [
    "# Exploration"
   ]
  },
  {
   "cell_type": "code",
   "execution_count": 3,
   "metadata": {},
   "outputs": [
    {
     "data": {
      "text/plain": [
       "(284807, 31)"
      ]
     },
     "execution_count": 3,
     "metadata": {},
     "output_type": "execute_result"
    }
   ],
   "source": [
    "df.shape"
   ]
  },
  {
   "cell_type": "markdown",
   "metadata": {},
   "source": [
    "31 columns, 2 of which are Time and Amount. The rest are output from the PCA transformation. Let's check for missing values:"
   ]
  },
  {
   "cell_type": "code",
   "execution_count": 4,
   "metadata": {},
   "outputs": [
    {
     "data": {
      "image/png": "[encoded data removed]",
      "text/plain": [
       "<matplotlib.figure.Figure at 0x18d87d95518>"
      ]
     },
     "metadata": {},
     "output_type": "display_data"
    }
   ],
   "source": [
    "count_classes = pd.value_counts(df['Class'], sort = True)\n",
    "count_classes.plot(kind = 'bar', rot=0)\n",
    "plt.title(\"Transaction class distribution\")\n",
    "plt.xticks(range(2), LABELS)\n",
    "plt.xlabel(\"Class\")\n",
    "plt.ylabel(\"Frequency\");"
   ]
  },
  {
   "cell_type": "markdown",
   "metadata": {},
   "source": [
    "# Preparing the data\n",
    "\n",
    "First, let's drop the Time column (not going to use it) and use the scikit's StandardScaler on the Amount. The scaler removes the mean and scales the values to unit variance:"
   ]
  },
  {
   "cell_type": "code",
   "execution_count": 5,
   "metadata": {
    "collapsed": true
   },
   "outputs": [],
   "source": [
    "from sklearn.preprocessing import StandardScaler\n",
    "\n",
    "data = df.drop(['Time'], axis=1)\n",
    "\n",
    "data['Amount'] = StandardScaler().fit_transform(data['Amount'].values.reshape(-1, 1))"
   ]
  },
  {
   "cell_type": "markdown",
   "metadata": {},
   "source": [
    "Training our Autoencoder is gonna be a bit different from what we are used to. Let's say you have a dataset containing a lot of non fraudulent transactions at hand. You want to detect any anomaly on new transactions. We will create this situation by training our model on the normal transactions, only. Reserving the correct class on the test set will give us a way to evaluate the performance of our model. We will reserve 20% of our data for testing:"
   ]
  },
  {
   "cell_type": "code",
   "execution_count": 6,
   "metadata": {
    "collapsed": true
   },
   "outputs": [],
   "source": [
    "from sklearn.model_selection import train_test_split\n",
    "\n",
    "data = np.array(data)\n",
    "\n",
    "X_train, X_test = train_test_split(data, test_size=0.2, random_state=RANDOM_SEED)\n",
    "X_train = X_train[X_train[:,-1] == 0]\n",
    "X_train = X_train[:,:-1]\n",
    "\n",
    "y_test = X_test[:,-1]\n",
    "X_test = X_test[:,:-1]"
   ]
  },
  {
   "cell_type": "code",
   "execution_count": 7,
   "metadata": {},
   "outputs": [
    {
     "data": {
      "text/plain": [
       "(227451, 29)"
      ]
     },
     "execution_count": 7,
     "metadata": {},
     "output_type": "execute_result"
    }
   ],
   "source": [
    "X_train.shape"
   ]
  },
  {
   "cell_type": "markdown",
   "metadata": {},
   "source": [
    "# Building the model\n",
    "\n",
    "Building an autoencoder with 100 hidden layer neurons."
   ]
  },
  {
   "cell_type": "code",
   "execution_count": 8,
   "metadata": {
    "collapsed": true
   },
   "outputs": [],
   "source": [
    "input_dim = X_train.shape[1]\n",
    "encoding_dim = 15"
   ]
  },
  {
   "cell_type": "code",
   "execution_count": 9,
   "metadata": {
    "collapsed": true
   },
   "outputs": [],
   "source": [
    "autoencoder = Sequential()\n",
    "\n",
    "autoencoder.add(Dropout(0.2, input_shape=(input_dim,)))\n",
    "autoencoder.add(Dense(20, activation='sigmoid'))\n",
    "autoencoder.add(Dense(encoding_dim, activation='relu'))\n",
    "autoencoder.add(Dense(20, activation='sigmoid'))\n",
    "autoencoder.add(Dense(input_dim, activation='linear'))"
   ]
  },
  {
   "cell_type": "markdown",
   "metadata": {},
   "source": [
    "Let's train our model for 100 epochs with a batch size of 32 samples and save the best performing model to a file."
   ]
  },
  {
   "cell_type": "code",
   "execution_count": 10,
   "metadata": {
    "collapsed": true
   },
   "outputs": [],
   "source": [
    "nb_epoch = 100\n",
    "batch_size = 32\n",
    "\n",
    "autoencoder.compile(optimizer='adam', \n",
    "                    loss='mean_squared_error', \n",
    "                    metrics=['mse'])"
   ]
  },
  {
   "cell_type": "code",
   "execution_count": 11,
   "metadata": {},
   "outputs": [
    {
     "name": "stdout",
     "output_type": "stream",
     "text": [
      "Train on 227451 samples, validate on 56962 samples\n",
      "Epoch 1/1\n",
      "227451/227451 [==============================] - 10s - loss: 0.6266 - mean_squared_error: 0.6266 - val_loss: 0.4506 - val_mean_squared_error: 0.4506\n",
      "Train on 227451 samples, validate on 56962 samples\n",
      "Epoch 1/1\n",
      "227451/227451 [==============================] - 8s - loss: 0.4634 - mean_squared_error: 0.4634 - val_loss: 0.3698 - val_mean_squared_error: 0.3698\n",
      "Train on 227451 samples, validate on 56962 samples\n",
      "Epoch 1/1\n",
      "227451/227451 [==============================] - 9s - loss: 0.4135 - mean_squared_error: 0.4135 - val_loss: 0.3312 - val_mean_squared_error: 0.3312\n",
      "Train on 227451 samples, validate on 56962 samples\n",
      "Epoch 1/1\n",
      "227451/227451 [==============================] - 9s - loss: 0.3891 - mean_squared_error: 0.3891 - val_loss: 0.3133 - val_mean_squared_error: 0.3133\n",
      "Train on 227451 samples, validate on 56962 samples\n",
      "Epoch 1/1\n",
      "227451/227451 [==============================] - 12s - loss: 0.3723 - mean_squared_error: 0.3723 - val_loss: 0.3007 - val_mean_squared_error: 0.3007\n",
      "Train on 227451 samples, validate on 56962 samples\n",
      "Epoch 1/1\n",
      "227451/227451 [==============================] - 14s - loss: 0.3592 - mean_squared_error: 0.3592 - val_loss: 0.2907 - val_mean_squared_error: 0.2907\n",
      "Train on 227451 samples, validate on 56962 samples\n",
      "Epoch 1/1\n",
      "227451/227451 [==============================] - 13s - loss: 0.3514 - mean_squared_error: 0.3514 - val_loss: 0.2858 - val_mean_squared_error: 0.2858\n",
      "Train on 227451 samples, validate on 56962 samples\n",
      "Epoch 1/1\n",
      "227451/227451 [==============================] - 10s - loss: 0.3481 - mean_squared_error: 0.3481 - val_loss: 0.2832 - val_mean_squared_error: 0.2832\n",
      "Train on 227451 samples, validate on 56962 samples\n",
      "Epoch 1/1\n",
      "227451/227451 [==============================] - 9s - loss: 0.3437 - mean_squared_error: 0.3437 - val_loss: 0.2806 - val_mean_squared_error: 0.2806\n",
      "Train on 227451 samples, validate on 56962 samples\n",
      "Epoch 1/1\n",
      "227451/227451 [==============================] - 9s - loss: 0.3379 - mean_squared_error: 0.3379 - val_loss: 0.2736 - val_mean_squared_error: 0.2736\n",
      "Train on 227451 samples, validate on 56962 samples\n",
      "Epoch 1/1\n",
      "227451/227451 [==============================] - 10s - loss: 0.3346 - mean_squared_error: 0.3346 - val_loss: 0.2712 - val_mean_squared_error: 0.2712\n",
      "Train on 227451 samples, validate on 56962 samples\n",
      "Epoch 1/1\n",
      "227451/227451 [==============================] - 9s - loss: 0.3287 - mean_squared_error: 0.3287 - val_loss: 0.2653 - val_mean_squared_error: 0.2653\n",
      "Train on 227451 samples, validate on 56962 samples\n",
      "Epoch 1/1\n",
      "227451/227451 [==============================] - 10s - loss: 0.3268 - mean_squared_error: 0.3268 - val_loss: 0.2612 - val_mean_squared_error: 0.2612\n",
      "Train on 227451 samples, validate on 56962 samples\n",
      "Epoch 1/1\n",
      "227451/227451 [==============================] - 9s - loss: 0.3223 - mean_squared_error: 0.3223 - val_loss: 0.2593 - val_mean_squared_error: 0.2593\n",
      "Train on 227451 samples, validate on 56962 samples\n",
      "Epoch 1/1\n",
      "227451/227451 [==============================] - 9s - loss: 0.3209 - mean_squared_error: 0.3209 - val_loss: 0.2608 - val_mean_squared_error: 0.2608\n",
      "Train on 227451 samples, validate on 56962 samples\n",
      "Epoch 1/1\n",
      "227451/227451 [==============================] - 8s - loss: 0.3172 - mean_squared_error: 0.3172 - val_loss: 0.2597 - val_mean_squared_error: 0.2597\n",
      "Train on 227451 samples, validate on 56962 samples\n",
      "Epoch 1/1\n",
      "227451/227451 [==============================] - 8s - loss: 0.3149 - mean_squared_error: 0.3149 - val_loss: 0.2579 - val_mean_squared_error: 0.2579\n",
      "Train on 227451 samples, validate on 56962 samples\n",
      "Epoch 1/1\n",
      "227451/227451 [==============================] - 8s - loss: 0.3153 - mean_squared_error: 0.3153 - val_loss: 0.2535 - val_mean_squared_error: 0.2535\n",
      "Train on 227451 samples, validate on 56962 samples\n",
      "Epoch 1/1\n",
      "227451/227451 [==============================] - 9s - loss: 0.3109 - mean_squared_error: 0.3109 - val_loss: 0.2515 - val_mean_squared_error: 0.2515\n",
      "Train on 227451 samples, validate on 56962 samples\n",
      "Epoch 1/1\n",
      "227451/227451 [==============================] - 8s - loss: 0.3094 - mean_squared_error: 0.3094 - val_loss: 0.2502 - val_mean_squared_error: 0.2502\n",
      "Train on 227451 samples, validate on 56962 samples\n",
      "Epoch 1/1\n",
      "227451/227451 [==============================] - 9s - loss: 0.3080 - mean_squared_error: 0.3080 - val_loss: 0.2486 - val_mean_squared_error: 0.2486\n",
      "Train on 227451 samples, validate on 56962 samples\n",
      "Epoch 1/1\n",
      "227451/227451 [==============================] - 8s - loss: 0.3048 - mean_squared_error: 0.3048 - val_loss: 0.2471 - val_mean_squared_error: 0.2471\n",
      "Train on 227451 samples, validate on 56962 samples\n",
      "Epoch 1/1\n",
      "227451/227451 [==============================] - 9s - loss: 0.3015 - mean_squared_error: 0.3015 - val_loss: 0.2417 - val_mean_squared_error: 0.2417\n",
      "Train on 227451 samples, validate on 56962 samples\n",
      "Epoch 1/1\n",
      "227451/227451 [==============================] - 9s - loss: 0.3007 - mean_squared_error: 0.3007 - val_loss: 0.2435 - val_mean_squared_error: 0.2435\n",
      "Train on 227451 samples, validate on 56962 samples\n",
      "Epoch 1/1\n",
      "227451/227451 [==============================] - 8s - loss: 0.2976 - mean_squared_error: 0.2976 - val_loss: 0.2393 - val_mean_squared_error: 0.2393\n",
      "Train on 227451 samples, validate on 56962 samples\n",
      "Epoch 1/1\n",
      "227451/227451 [==============================] - 9s - loss: 0.2972 - mean_squared_error: 0.2972 - val_loss: 0.2410 - val_mean_squared_error: 0.2410\n",
      "Train on 227451 samples, validate on 56962 samples\n",
      "Epoch 1/1\n",
      "227451/227451 [==============================] - 8s - loss: 0.2981 - mean_squared_error: 0.2981 - val_loss: 0.2452 - val_mean_squared_error: 0.2452\n",
      "Train on 227451 samples, validate on 56962 samples\n",
      "Epoch 1/1\n",
      "227451/227451 [==============================] - 8s - loss: 0.2969 - mean_squared_error: 0.2969 - val_loss: 0.2402 - val_mean_squared_error: 0.2402\n",
      "Train on 227451 samples, validate on 56962 samples\n",
      "Epoch 1/1\n",
      "227451/227451 [==============================] - 8s - loss: 0.2946 - mean_squared_error: 0.2946 - val_loss: 0.2371 - val_mean_squared_error: 0.2371\n",
      "Train on 227451 samples, validate on 56962 samples\n",
      "Epoch 1/1\n",
      "227451/227451 [==============================] - 8s - loss: 0.2965 - mean_squared_error: 0.2965 - val_loss: 0.2345 - val_mean_squared_error: 0.2345\n",
      "Train on 227451 samples, validate on 56962 samples\n",
      "Epoch 1/1\n",
      "227451/227451 [==============================] - 8s - loss: 0.2928 - mean_squared_error: 0.2928 - val_loss: 0.2356 - val_mean_squared_error: 0.2356\n",
      "Train on 227451 samples, validate on 56962 samples\n",
      "Epoch 1/1\n",
      "227451/227451 [==============================] - 9s - loss: 0.2925 - mean_squared_error: 0.2925 - val_loss: 0.2380 - val_mean_squared_error: 0.2380\n",
      "Train on 227451 samples, validate on 56962 samples\n",
      "Epoch 1/1\n",
      "227451/227451 [==============================] - 9s - loss: 0.2919 - mean_squared_error: 0.2919 - val_loss: 0.2350 - val_mean_squared_error: 0.2350\n",
      "Train on 227451 samples, validate on 56962 samples\n",
      "Epoch 1/1\n",
      "227451/227451 [==============================] - 8s - loss: 0.2922 - mean_squared_error: 0.2922 - val_loss: 0.2375 - val_mean_squared_error: 0.2375\n",
      "Train on 227451 samples, validate on 56962 samples\n",
      "Epoch 1/1\n",
      "227451/227451 [==============================] - 8s - loss: 0.2915 - mean_squared_error: 0.2915 - val_loss: 0.2334 - val_mean_squared_error: 0.2334\n",
      "Train on 227451 samples, validate on 56962 samples\n",
      "Epoch 1/1\n",
      "227451/227451 [==============================] - 9s - loss: 0.2920 - mean_squared_error: 0.2920 - val_loss: 0.2333 - val_mean_squared_error: 0.2333\n",
      "Train on 227451 samples, validate on 56962 samples\n",
      "Epoch 1/1\n",
      "227451/227451 [==============================] - 9s - loss: 0.2905 - mean_squared_error: 0.2905 - val_loss: 0.2300 - val_mean_squared_error: 0.2300\n",
      "Train on 227451 samples, validate on 56962 samples\n",
      "Epoch 1/1\n",
      "227451/227451 [==============================] - 9s - loss: 0.2897 - mean_squared_error: 0.2897 - val_loss: 0.2323 - val_mean_squared_error: 0.2323\n",
      "Train on 227451 samples, validate on 56962 samples\n",
      "Epoch 1/1\n",
      "227451/227451 [==============================] - 9s - loss: 0.2903 - mean_squared_error: 0.2903 - val_loss: 0.2325 - val_mean_squared_error: 0.2325\n",
      "Train on 227451 samples, validate on 56962 samples\n",
      "Epoch 1/1\n"
     ]
    },
    {
     "name": "stdout",
     "output_type": "stream",
     "text": [
      "227451/227451 [==============================] - 9s - loss: 0.2893 - mean_squared_error: 0.2893 - val_loss: 0.2316 - val_mean_squared_error: 0.2316\n",
      "Train on 227451 samples, validate on 56962 samples\n",
      "Epoch 1/1\n",
      "227451/227451 [==============================] - 11s - loss: 0.2917 - mean_squared_error: 0.2917 - val_loss: 0.2332 - val_mean_squared_error: 0.2332\n",
      "Train on 227451 samples, validate on 56962 samples\n",
      "Epoch 1/1\n",
      "227451/227451 [==============================] - 14s - loss: 0.2891 - mean_squared_error: 0.2891 - val_loss: 0.2326 - val_mean_squared_error: 0.2326\n",
      "Train on 227451 samples, validate on 56962 samples\n",
      "Epoch 1/1\n",
      "227451/227451 [==============================] - 11s - loss: 0.2891 - mean_squared_error: 0.2891 - val_loss: 0.2316 - val_mean_squared_error: 0.2316\n",
      "Train on 227451 samples, validate on 56962 samples\n",
      "Epoch 1/1\n",
      "227451/227451 [==============================] - 10s - loss: 0.2880 - mean_squared_error: 0.2880 - val_loss: 0.2329 - val_mean_squared_error: 0.2329\n",
      "Train on 227451 samples, validate on 56962 samples\n",
      "Epoch 1/1\n",
      "227451/227451 [==============================] - 10s - loss: 0.2883 - mean_squared_error: 0.2883 - val_loss: 0.2304 - val_mean_squared_error: 0.2304\n",
      "Train on 227451 samples, validate on 56962 samples\n",
      "Epoch 1/1\n",
      "227451/227451 [==============================] - 10s - loss: 0.2876 - mean_squared_error: 0.2876 - val_loss: 0.2308 - val_mean_squared_error: 0.2308\n",
      "Train on 227451 samples, validate on 56962 samples\n",
      "Epoch 1/1\n",
      "227451/227451 [==============================] - 11s - loss: 0.2900 - mean_squared_error: 0.2900 - val_loss: 0.2361 - val_mean_squared_error: 0.2361\n",
      "Train on 227451 samples, validate on 56962 samples\n",
      "Epoch 1/1\n",
      "227451/227451 [==============================] - 10s - loss: 0.2864 - mean_squared_error: 0.2864 - val_loss: 0.2299 - val_mean_squared_error: 0.2299\n",
      "Train on 227451 samples, validate on 56962 samples\n",
      "Epoch 1/1\n",
      "227451/227451 [==============================] - 9s - loss: 0.2860 - mean_squared_error: 0.2860 - val_loss: 0.2412 - val_mean_squared_error: 0.2412\n",
      "Train on 227451 samples, validate on 56962 samples\n",
      "Epoch 1/1\n",
      "227451/227451 [==============================] - 10s - loss: 0.2878 - mean_squared_error: 0.2878 - val_loss: 0.2308 - val_mean_squared_error: 0.2308\n",
      "Train on 227451 samples, validate on 56962 samples\n",
      "Epoch 1/1\n",
      "227451/227451 [==============================] - 9s - loss: 0.2856 - mean_squared_error: 0.2856 - val_loss: 0.2343 - val_mean_squared_error: 0.2343\n",
      "Train on 227451 samples, validate on 56962 samples\n",
      "Epoch 1/1\n",
      "227451/227451 [==============================] - 10s - loss: 0.2872 - mean_squared_error: 0.2872 - val_loss: 0.2268 - val_mean_squared_error: 0.2268\n",
      "Train on 227451 samples, validate on 56962 samples\n",
      "Epoch 1/1\n",
      "227451/227451 [==============================] - 10s - loss: 0.2859 - mean_squared_error: 0.2859 - val_loss: 0.2281 - val_mean_squared_error: 0.2281\n",
      "Train on 227451 samples, validate on 56962 samples\n",
      "Epoch 1/1\n",
      "227451/227451 [==============================] - 10s - loss: 0.2854 - mean_squared_error: 0.2854 - val_loss: 0.2272 - val_mean_squared_error: 0.2272\n",
      "Train on 227451 samples, validate on 56962 samples\n",
      "Epoch 1/1\n",
      "227451/227451 [==============================] - 10s - loss: 0.2849 - mean_squared_error: 0.2849 - val_loss: 0.2321 - val_mean_squared_error: 0.2321\n",
      "Train on 227451 samples, validate on 56962 samples\n",
      "Epoch 1/1\n",
      "227451/227451 [==============================] - 10s - loss: 0.2851 - mean_squared_error: 0.2851 - val_loss: 0.2305 - val_mean_squared_error: 0.2305\n",
      "Train on 227451 samples, validate on 56962 samples\n",
      "Epoch 1/1\n",
      "227451/227451 [==============================] - 10s - loss: 0.2861 - mean_squared_error: 0.2861 - val_loss: 0.2332 - val_mean_squared_error: 0.2332\n",
      "Train on 227451 samples, validate on 56962 samples\n",
      "Epoch 1/1\n",
      "227451/227451 [==============================] - 10s - loss: 0.2859 - mean_squared_error: 0.2859 - val_loss: 0.2330 - val_mean_squared_error: 0.2330\n",
      "Train on 227451 samples, validate on 56962 samples\n",
      "Epoch 1/1\n",
      "227451/227451 [==============================] - 10s - loss: 0.2850 - mean_squared_error: 0.2850 - val_loss: 0.2300 - val_mean_squared_error: 0.2300\n",
      "Train on 227451 samples, validate on 56962 samples\n",
      "Epoch 1/1\n",
      "227451/227451 [==============================] - 10s - loss: 0.2845 - mean_squared_error: 0.2845 - val_loss: 0.2327 - val_mean_squared_error: 0.2327\n",
      "Train on 227451 samples, validate on 56962 samples\n",
      "Epoch 1/1\n",
      "227451/227451 [==============================] - 10s - loss: 0.2845 - mean_squared_error: 0.2845 - val_loss: 0.2301 - val_mean_squared_error: 0.2301\n",
      "Train on 227451 samples, validate on 56962 samples\n",
      "Epoch 1/1\n",
      "227451/227451 [==============================] - 10s - loss: 0.2835 - mean_squared_error: 0.2835 - val_loss: 0.2277 - val_mean_squared_error: 0.2277\n",
      "Train on 227451 samples, validate on 56962 samples\n",
      "Epoch 1/1\n",
      "227451/227451 [==============================] - 10s - loss: 0.2849 - mean_squared_error: 0.2849 - val_loss: 0.2303 - val_mean_squared_error: 0.2303\n",
      "Train on 227451 samples, validate on 56962 samples\n",
      "Epoch 1/1\n",
      "227451/227451 [==============================] - 10s - loss: 0.2843 - mean_squared_error: 0.2843 - val_loss: 0.2280 - val_mean_squared_error: 0.2280\n",
      "Train on 227451 samples, validate on 56962 samples\n",
      "Epoch 1/1\n",
      "227451/227451 [==============================] - 10s - loss: 0.2839 - mean_squared_error: 0.2839 - val_loss: 0.2255 - val_mean_squared_error: 0.2255\n",
      "Train on 227451 samples, validate on 56962 samples\n",
      "Epoch 1/1\n",
      "227451/227451 [==============================] - 10s - loss: 0.2846 - mean_squared_error: 0.2846 - val_loss: 0.2289 - val_mean_squared_error: 0.2289\n",
      "Train on 227451 samples, validate on 56962 samples\n",
      "Epoch 1/1\n",
      "227451/227451 [==============================] - 10s - loss: 0.2845 - mean_squared_error: 0.2845 - val_loss: 0.2274 - val_mean_squared_error: 0.2274\n",
      "Train on 227451 samples, validate on 56962 samples\n",
      "Epoch 1/1\n",
      "227451/227451 [==============================] - 10s - loss: 0.2846 - mean_squared_error: 0.2846 - val_loss: 0.2320 - val_mean_squared_error: 0.2320\n",
      "Train on 227451 samples, validate on 56962 samples\n",
      "Epoch 1/1\n",
      "227451/227451 [==============================] - 10s - loss: 0.2823 - mean_squared_error: 0.2823 - val_loss: 0.2308 - val_mean_squared_error: 0.2308\n",
      "Train on 227451 samples, validate on 56962 samples\n",
      "Epoch 1/1\n",
      "227451/227451 [==============================] - 10s - loss: 0.2829 - mean_squared_error: 0.2829 - val_loss: 0.2257 - val_mean_squared_error: 0.2257\n",
      "Train on 227451 samples, validate on 56962 samples\n",
      "Epoch 1/1\n",
      "227451/227451 [==============================] - 11s - loss: 0.2833 - mean_squared_error: 0.2833 - val_loss: 0.2291 - val_mean_squared_error: 0.2291\n",
      "Train on 227451 samples, validate on 56962 samples\n",
      "Epoch 1/1\n",
      "227451/227451 [==============================] - 10s - loss: 0.2844 - mean_squared_error: 0.2844 - val_loss: 0.2285 - val_mean_squared_error: 0.2285\n",
      "Train on 227451 samples, validate on 56962 samples\n",
      "Epoch 1/1\n",
      "227451/227451 [==============================] - 10s - loss: 0.2806 - mean_squared_error: 0.2806 - val_loss: 0.2274 - val_mean_squared_error: 0.2274\n",
      "Train on 227451 samples, validate on 56962 samples\n",
      "Epoch 1/1\n",
      "227451/227451 [==============================] - 11s - loss: 0.2832 - mean_squared_error: 0.2832 - val_loss: 0.2331 - val_mean_squared_error: 0.2331\n",
      "Train on 227451 samples, validate on 56962 samples\n",
      "Epoch 1/1\n",
      "227451/227451 [==============================] - 10s - loss: 0.2824 - mean_squared_error: 0.2824 - val_loss: 0.2284 - val_mean_squared_error: 0.2284\n",
      "Train on 227451 samples, validate on 56962 samples\n",
      "Epoch 1/1\n",
      "227451/227451 [==============================] - 10s - loss: 0.2829 - mean_squared_error: 0.2829 - val_loss: 0.2293 - val_mean_squared_error: 0.2293\n",
      "Train on 227451 samples, validate on 56962 samples\n",
      "Epoch 1/1\n",
      "227451/227451 [==============================] - 10s - loss: 0.2813 - mean_squared_error: 0.2813 - val_loss: 0.2241 - val_mean_squared_error: 0.2241\n",
      "Train on 227451 samples, validate on 56962 samples\n",
      "Epoch 1/1\n",
      "227451/227451 [==============================] - 10s - loss: 0.2834 - mean_squared_error: 0.2834 - val_loss: 0.2295 - val_mean_squared_error: 0.2295\n",
      "Train on 227451 samples, validate on 56962 samples\n",
      "Epoch 1/1\n"
     ]
    },
    {
     "name": "stdout",
     "output_type": "stream",
     "text": [
      "227451/227451 [==============================] - 10s - loss: 0.2828 - mean_squared_error: 0.2828 - val_loss: 0.2280 - val_mean_squared_error: 0.2280\n",
      "Train on 227451 samples, validate on 56962 samples\n",
      "Epoch 1/1\n",
      "227451/227451 [==============================] - 10s - loss: 0.2806 - mean_squared_error: 0.2806 - val_loss: 0.2307 - val_mean_squared_error: 0.2307\n",
      "Train on 227451 samples, validate on 56962 samples\n",
      "Epoch 1/1\n",
      "227451/227451 [==============================] - 9s - loss: 0.2824 - mean_squared_error: 0.2824 - val_loss: 0.2304 - val_mean_squared_error: 0.2304\n",
      "Train on 227451 samples, validate on 56962 samples\n",
      "Epoch 1/1\n",
      "227451/227451 [==============================] - 9s - loss: 0.2810 - mean_squared_error: 0.2810 - val_loss: 0.2263 - val_mean_squared_error: 0.2263\n",
      "Train on 227451 samples, validate on 56962 samples\n",
      "Epoch 1/1\n",
      "227451/227451 [==============================] - 12s - loss: 0.2805 - mean_squared_error: 0.2805 - val_loss: 0.2296 - val_mean_squared_error: 0.2296\n",
      "Train on 227451 samples, validate on 56962 samples\n",
      "Epoch 1/1\n",
      "227451/227451 [==============================] - 10s - loss: 0.2815 - mean_squared_error: 0.2815 - val_loss: 0.2367 - val_mean_squared_error: 0.2367\n",
      "Train on 227451 samples, validate on 56962 samples\n",
      "Epoch 1/1\n",
      "227451/227451 [==============================] - 10s - loss: 0.2796 - mean_squared_error: 0.2796 - val_loss: 0.2260 - val_mean_squared_error: 0.2260\n",
      "Train on 227451 samples, validate on 56962 samples\n",
      "Epoch 1/1\n",
      "227451/227451 [==============================] - 10s - loss: 0.2809 - mean_squared_error: 0.2809 - val_loss: 0.2234 - val_mean_squared_error: 0.2234\n",
      "Train on 227451 samples, validate on 56962 samples\n",
      "Epoch 1/1\n",
      "227451/227451 [==============================] - 10s - loss: 0.2800 - mean_squared_error: 0.2800 - val_loss: 0.2236 - val_mean_squared_error: 0.2236\n",
      "Train on 227451 samples, validate on 56962 samples\n",
      "Epoch 1/1\n",
      "227451/227451 [==============================] - 11s - loss: 0.2768 - mean_squared_error: 0.2768 - val_loss: 0.2258 - val_mean_squared_error: 0.2258\n",
      "Train on 227451 samples, validate on 56962 samples\n",
      "Epoch 1/1\n",
      "227451/227451 [==============================] - 10s - loss: 0.2773 - mean_squared_error: 0.2773 - val_loss: 0.2242 - val_mean_squared_error: 0.2242\n",
      "Train on 227451 samples, validate on 56962 samples\n",
      "Epoch 1/1\n",
      "227451/227451 [==============================] - 10s - loss: 0.2795 - mean_squared_error: 0.2795 - val_loss: 0.2233 - val_mean_squared_error: 0.2233\n",
      "Train on 227451 samples, validate on 56962 samples\n",
      "Epoch 1/1\n",
      "227451/227451 [==============================] - 10s - loss: 0.2778 - mean_squared_error: 0.2778 - val_loss: 0.2241 - val_mean_squared_error: 0.2241\n",
      "Train on 227451 samples, validate on 56962 samples\n",
      "Epoch 1/1\n",
      "227451/227451 [==============================] - 10s - loss: 0.2782 - mean_squared_error: 0.2782 - val_loss: 0.2259 - val_mean_squared_error: 0.2259\n",
      "Train on 227451 samples, validate on 56962 samples\n",
      "Epoch 1/1\n",
      "227451/227451 [==============================] - 11s - loss: 0.2786 - mean_squared_error: 0.2786 - val_loss: 0.2291 - val_mean_squared_error: 0.2291\n",
      "Train on 227451 samples, validate on 56962 samples\n",
      "Epoch 1/1\n",
      "227451/227451 [==============================] - 9s - loss: 0.2767 - mean_squared_error: 0.2767 - val_loss: 0.2263 - val_mean_squared_error: 0.2263\n",
      "Train on 227451 samples, validate on 56962 samples\n",
      "Epoch 1/1\n",
      "227451/227451 [==============================] - 9s - loss: 0.2785 - mean_squared_error: 0.2785 - val_loss: 0.2247 - val_mean_squared_error: 0.2247\n",
      "Train on 227451 samples, validate on 56962 samples\n",
      "Epoch 1/1\n",
      "227451/227451 [==============================] - 10s - loss: 0.2761 - mean_squared_error: 0.2761 - val_loss: 0.2228 - val_mean_squared_error: 0.2228\n",
      "Train on 227451 samples, validate on 56962 samples\n",
      "Epoch 1/1\n",
      "227451/227451 [==============================] - 9s - loss: 0.2759 - mean_squared_error: 0.2759 - val_loss: 0.2252 - val_mean_squared_error: 0.2252\n",
      "Train on 227451 samples, validate on 56962 samples\n",
      "Epoch 1/1\n",
      "227451/227451 [==============================] - 9s - loss: 0.2777 - mean_squared_error: 0.2777 - val_loss: 0.2269 - val_mean_squared_error: 0.2269\n",
      "Train on 227451 samples, validate on 56962 samples\n",
      "Epoch 1/1\n",
      "227451/227451 [==============================] - 9s - loss: 0.2791 - mean_squared_error: 0.2791 - val_loss: 0.2289 - val_mean_squared_error: 0.2289\n",
      "Train on 227451 samples, validate on 56962 samples\n",
      "Epoch 1/1\n",
      "227451/227451 [==============================] - 9s - loss: 0.2773 - mean_squared_error: 0.2773 - val_loss: 0.2253 - val_mean_squared_error: 0.2253\n"
     ]
    }
   ],
   "source": [
    "hist = []\n",
    "for _ in range(100):\n",
    "    hist.append(autoencoder.fit(X_train, X_train,\n",
    "                    epochs=1,\n",
    "                    batch_size=batch_size,\n",
    "                    shuffle=True,\n",
    "                    validation_data=(X_test, X_test),\n",
    "                    verbose=1).history)\n",
    "    "
   ]
  },
  {
   "cell_type": "code",
   "execution_count": null,
   "metadata": {
    "collapsed": true
   },
   "outputs": [],
   "source": [
    "_hist_ = [(x['loss'][0], x['val_loss'][0]) for x in hist]"
   ]
  },
  {
   "cell_type": "code",
   "execution_count": null,
   "metadata": {
    "collapsed": true
   },
   "outputs": [],
   "source": [
    "# autoencoder.save('fraud_detection.h5')\n",
    "from keras.models import load_model\n",
    "aec = load_model('fraud_detection.h5')"
   ]
  },
  {
   "cell_type": "markdown",
   "metadata": {},
   "source": [
    "# Evaluation"
   ]
  },
  {
   "cell_type": "code",
   "execution_count": null,
   "metadata": {
    "collapsed": true
   },
   "outputs": [],
   "source": [
    "plt.plot(list(zip(*_hist_))[0])\n",
    "plt.plot(list(zip(*_hist_))[1])\n",
    "plt.title('model loss')\n",
    "plt.ylabel('loss')\n",
    "plt.xlabel('epoch')\n",
    "plt.legend(['train', 'test'], loc='upper right');"
   ]
  },
  {
   "cell_type": "markdown",
   "metadata": {},
   "source": [
    "The reconstruction error on our training and test data seems to converge nicely. Is it low enough? Let's have a closer look at the error distribution:"
   ]
  },
  {
   "cell_type": "code",
   "execution_count": null,
   "metadata": {
    "collapsed": true
   },
   "outputs": [],
   "source": [
    "predictions = aec.predict(X_train)\n",
    "recon  = (((predictions-X_train)**2).mean(-1))\n",
    "\n",
    "test_pred = autoencoder.predict(X_test)\n",
    "test_recon  = (((test_pred-X_test)**2).mean(-1))\n",
    "\n",
    "mean_recon = recon.mean()"
   ]
  },
  {
   "cell_type": "code",
   "execution_count": null,
   "metadata": {
    "collapsed": true
   },
   "outputs": [],
   "source": [
    "from sklearn.metrics import precision_score,recall_score\n",
    "\n",
    "prc = list()\n",
    "rec = list()\n",
    "thres = list()\n",
    "\n",
    "th = 0\n",
    "for i in range(100):\n",
    "    th+=0.1\n",
    "    fraud = (test_recon>mean_recon+th)\n",
    "    prc.append(precision_score(y_test,fraud))\n",
    "    rec.append(recall_score(y_test,fraud))\n",
    "    thres.append(th)\n",
    "    "
   ]
  },
  {
   "cell_type": "code",
   "execution_count": null,
   "metadata": {
    "collapsed": true
   },
   "outputs": [],
   "source": [
    "plt.plot(prc, rec)\n",
    "plt.title('precision vs recall')\n",
    "plt.ylabel('recall')\n",
    "plt.xlabel('precision')"
   ]
  },
  {
   "cell_type": "code",
   "execution_count": null,
   "metadata": {
    "collapsed": true
   },
   "outputs": [],
   "source": [
    "plt.plot(thres, rec)\n",
    "plt.title('threshold vs recall')\n",
    "plt.ylabel('recall')\n",
    "plt.xlabel('threshold')"
   ]
  },
  {
   "cell_type": "code",
   "execution_count": null,
   "metadata": {
    "collapsed": true
   },
   "outputs": [],
   "source": [
    "plt.plot(thres, prc)\n",
    "plt.title('threshold vs precision')\n",
    "plt.ylabel('precision')\n",
    "plt.xlabel('threshold')"
   ]
  },
  {
   "cell_type": "code",
   "execution_count": null,
   "metadata": {
    "collapsed": true
   },
   "outputs": [],
   "source": []
  }
 ],
 "metadata": {
  "anaconda-cloud": {},
  "kernelspec": {
   "display_name": "Python 3",
   "language": "python",
   "name": "python3"
  },
  "language_info": {
   "codemirror_mode": {
    "name": "ipython",
    "version": 3
   },
   "file_extension": ".py",
   "mimetype": "text/x-python",
   "name": "python",
   "nbconvert_exporter": "python",
   "pygments_lexer": "ipython3",
   "version": "3.6.1"
  }
 },
 "nbformat": 4,
 "nbformat_minor": 2
}
